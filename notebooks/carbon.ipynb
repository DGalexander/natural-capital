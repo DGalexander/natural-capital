{
 "cells": [
  {
   "cell_type": "markdown",
   "metadata": {},
   "source": [
    "# C_tha"
   ]
  },
  {
   "cell_type": "code",
   "execution_count": 34,
   "metadata": {},
   "outputs": [],
   "source": [
    "import rasterio\n",
    "from rasterio.windows import Window\n",
    "from rasterio.mask import mask\n",
    "from shapely.geometry import box\n",
    "import geopandas as gpd\n",
    "import numpy as np\n",
    "import math\n"
   ]
  },
  {
   "cell_type": "code",
   "execution_count": 32,
   "metadata": {},
   "outputs": [],
   "source": [
    "# File paths\n",
    "raster_path = '../data/carbon/morr_C_tha_hires.tif'\n",
    "boundary_path = '../data/boundaries/Morridge-Hill (Warslow Moors)/Morridge-Hill (Warslow Moors).shp'\n",
    "output_raster = '../data/clipped_carbon.tif'"
   ]
  },
  {
   "cell_type": "code",
   "execution_count": 33,
   "metadata": {},
   "outputs": [
    {
     "name": "stderr",
     "output_type": "stream",
     "text": [
      "/tmp/ipykernel_13971/1744124809.py:4: DeprecationWarning: The 'unary_union' attribute is deprecated, use the 'union_all()' method instead.\n",
      "  merged_boundary = simplified_boundary.unary_union  # Merge into one geometry\n"
     ]
    }
   ],
   "source": [
    "# Load and simplify boundary\n",
    "boundary = gpd.read_file(boundary_path)\n",
    "simplified_boundary = boundary.simplify(tolerance=10)  # Simplify geometry\n",
    "merged_boundary = simplified_boundary.unary_union  # Merge into one geometry\n",
    "boundary_geom = [merged_boundary]  # Convert to list for rasterio masking"
   ]
  },
  {
   "cell_type": "code",
   "execution_count": 38,
   "metadata": {},
   "outputs": [],
   "source": [
    "def process_large_raster_in_chunks(raster_path, boundary_geom, output_raster, chunk_size=2048):\n",
    "    with rasterio.open(raster_path) as src:\n",
    "        # Create profile for the output raster\n",
    "        profile = src.profile\n",
    "        profile.update(driver='GTiff', compress='lzw', tiled=True, nodata=0)\n",
    "\n",
    "        # Open the output file\n",
    "        with rasterio.open(output_raster, 'w', **profile) as dst:\n",
    "            # Loop through the raster in chunks\n",
    "            for row_off in range(0, src.height, chunk_size):\n",
    "                for col_off in range(0, src.width, chunk_size):\n",
    "                    # Define the window\n",
    "                    window = Window(col_off, row_off,\n",
    "                                    min(chunk_size, src.width - col_off),\n",
    "                                    min(chunk_size, src.height - row_off))\n",
    "                    \n",
    "                    # Check if the window intersects the boundary\n",
    "                    if window_intersects_boundary(window, src.transform, merged_boundary):\n",
    "                        # Read the data for the window\n",
    "                        data = src.read(1, window=window)\n",
    "                        window_transform = src.window_transform(window)\n",
    "\n",
    "                        # Create a mask for the chunk\n",
    "                        mask = rasterio.features.geometry_mask(\n",
    "                            boundary_geom,\n",
    "                            transform=window_transform,\n",
    "                            invert=True,\n",
    "                            out_shape=data.shape,\n",
    "                            all_touched=True,\n",
    "                        )\n",
    "                        \n",
    "                        # Apply the mask to the data\n",
    "                        masked_data = np.where(mask, data, 0)  # Set nodata as 0\n",
    "\n",
    "                        # Write the masked data to the output file\n",
    "                        dst.write(masked_data, 1, window=window)"
   ]
  },
  {
   "cell_type": "code",
   "execution_count": 39,
   "metadata": {},
   "outputs": [
    {
     "name": "stdout",
     "output_type": "stream",
     "text": [
      "Clipping complete. Output saved to '../data/clipped_carbon.tif'.\n"
     ]
    }
   ],
   "source": [
    "# Run the processing function\n",
    "process_large_raster_in_chunks(raster_path, boundary_geom, output_raster)\n",
    "print(f\"Clipping complete. Output saved to '{output_raster}'.\")"
   ]
  },
  {
   "cell_type": "code",
   "execution_count": 43,
   "metadata": {},
   "outputs": [
    {
     "name": "stdout",
     "output_type": "stream",
     "text": [
      "Raster Statistics:\n",
      "Mean Carbon Stock: -- t/ha\n",
      "Max Carbon Stock: 504 t/ha\n",
      "Total Carbon Stock: -- t\n"
     ]
    }
   ],
   "source": [
    "import rasterio\n",
    "import numpy as np\n",
    "\n",
    "# File path to the clipped raster\n",
    "clipped_raster = '../data/clipped_carbon.tif'\n",
    "\n",
    "# Statistics placeholder\n",
    "total_sum = 0\n",
    "total_count = 0\n",
    "max_value = 0\n",
    "\n",
    "chunk_size = 2048  # Adjust based on memory availability\n",
    "\n",
    "# Process raster in chunks\n",
    "with rasterio.open(clipped_raster) as src:\n",
    "    for row_off in range(0, src.height, chunk_size):\n",
    "        for col_off in range(0, src.width, chunk_size):\n",
    "            # Define window\n",
    "            window = rasterio.windows.Window(\n",
    "                col_off, row_off,\n",
    "                min(chunk_size, src.width - col_off),\n",
    "                min(chunk_size, src.height - row_off)\n",
    "            )\n",
    "\n",
    "            # Read the data in the window\n",
    "            data = src.read(1, window=window)\n",
    "\n",
    "            # Mask nodata values\n",
    "            nodata = src.nodata\n",
    "            data = np.ma.masked_equal(data, nodata)\n",
    "\n",
    "            # Update statistics\n",
    "            total_sum += np.sum(data)\n",
    "            total_count += np.count_nonzero(~data.mask)\n",
    "            max_value = max(max_value, np.max(data))\n",
    "\n",
    "# Compute mean\n",
    "mean_value = total_sum / total_count\n",
    "\n",
    "print(\"Raster Statistics:\")\n",
    "print(f\"Mean Carbon Stock: {mean_value} t/ha\")\n",
    "print(f\"Max Carbon Stock: {max_value} t/ha\")\n",
    "print(f\"Total Carbon Stock: {total_sum} t\")\n"
   ]
  },
  {
   "cell_type": "code",
   "execution_count": null,
   "metadata": {},
   "outputs": [],
   "source": []
  }
 ],
 "metadata": {
  "kernelspec": {
   "display_name": "natcap",
   "language": "python",
   "name": "python3"
  },
  "language_info": {
   "codemirror_mode": {
    "name": "ipython",
    "version": 3
   },
   "file_extension": ".py",
   "mimetype": "text/x-python",
   "name": "python",
   "nbconvert_exporter": "python",
   "pygments_lexer": "ipython3",
   "version": "3.11.11"
  }
 },
 "nbformat": 4,
 "nbformat_minor": 2
}
