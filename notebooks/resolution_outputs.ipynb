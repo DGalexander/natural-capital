{
 "cells": [
  {
   "cell_type": "code",
   "execution_count": 1,
   "id": "f97c2470-dc7d-4ccb-be6b-217cdb79a783",
   "metadata": {
    "tags": []
   },
   "outputs": [],
   "source": [
    "import rioxarray as rio\n",
    "import os\n",
    "import xarray as xr\n",
    "import dask.diagnostics as diags\n",
    "import dask\n",
    "import utils"
   ]
  },
  {
   "cell_type": "code",
   "execution_count": 10,
   "id": "b701c832-2a53-4636-937b-b407aae0f602",
   "metadata": {
    "tags": []
   },
   "outputs": [],
   "source": [
    "ROOT = '/home/jovyan/work/project_data/landcover/model_outputs'\n",
    "lcm1m = 'final/mridge_lcm_12p5_rgb_reduce_1x1.vrt'\n",
    "\n",
    "img1 = rio.open_rasterio(\n",
    "    os.path.join(ROOT, lcm1m),\n",
    "    chunks=(26, 1000, 1000) # Use dask\n",
    ")"
   ]
  },
  {
   "cell_type": "markdown",
   "id": "7f55d7f9-3d5f-4bd8-9ce5-96c5b1743358",
   "metadata": {},
   "source": [
    "Add a progress bar to time chunked processing (dask)."
   ]
  },
  {
   "cell_type": "code",
   "execution_count": 4,
   "id": "be1cbf3c-70bc-41f4-93bb-364581706cb1",
   "metadata": {
    "tags": []
   },
   "outputs": [],
   "source": [
    "bar = diags.ProgressBar()\n",
    "bar.register()"
   ]
  },
  {
   "cell_type": "code",
   "execution_count": 5,
   "id": "3f08dd15-77e6-4776-ba43-2cb72b892622",
   "metadata": {
    "tags": []
   },
   "outputs": [],
   "source": [
    "def winner_takes_all(src, outpath, dim='band', reduce=[]):\n",
    "    if reduce:\n",
    "        src = utils.reduce_to_proportion(img1, [2, 2], boundary='trim', as_counts=True)\n",
    "    \n",
    "    src = src.argmax(dim=dim)\n",
    "    src.astype('int32').rio.to_raster(outpath)"
   ]
  },
  {
   "cell_type": "code",
   "execution_count": 6,
   "id": "fd9767ee-82e8-4ba1-ad15-466966b3a208",
   "metadata": {
    "tags": []
   },
   "outputs": [
    {
     "name": "stdout",
     "output_type": "stream",
     "text": [
      "[########################################] | 100% Completed | 11m 29s\n"
     ]
    }
   ],
   "source": [
    "out_path = os.path.join(ROOT, 'final/mrdge_lcm_2m_maj.tif')\n",
    "winner_takes_all(img1, out_path, reduce=[2, 2])"
   ]
  },
  {
   "cell_type": "code",
   "execution_count": 4,
   "id": "02d33694-d388-4cc1-ac68-7b7e17b990d4",
   "metadata": {
    "tags": []
   },
   "outputs": [],
   "source": [
    "classes = {\n",
    "    0: ('#D3D3D3', 'No Class', '(nan)', 'Band 01'),  # Light grey\n",
    "    101: ('#006400', 'Broadleaved Woodland', 'C101', 'Band 02'),  # Dark green\n",
    "    102: ('#008000', 'Coniferous Woodland', 'C102', 'Band 03'),  # Green\n",
    "    103: ('#808000', 'Scrub', 'C103', 'Band 04'),  # Olive\n",
    "    104: ('#A52A2A', 'Felled/Young Trees', 'C104', 'Band 05'),  # Brown\n",
    "    201: ('#800080', 'Heather Moorland', 'D201', 'Band 06'),  # Purple\n",
    "    202: ('#A0522D', 'Upland Grass Moor', 'D202', 'Band 07'),  # Light brown\n",
    "    203: ('#FFFF00', 'Bracken', 'D203', 'Band 08'),  # Yellow\n",
    "    204: ('#FFD700', 'Mosaic', 'D204', 'Band 09'),  # Gold\n",
    "    504: ('#FF0000', 'Rush Pasture', 'E504', 'Band 26'),  # Red\n",
    "    302: ('#90EE90', 'Improved Grassland', 'E302', 'Band 13'),  # Light green\n",
    "    303: ('#32CD32', 'Rough Grassland', 'E303', 'Band 14'),  # Lime green\n",
    "    401: ('#0000FF', 'River', 'OS401', 'Band 15'),  # Blue\n",
    "    402: ('#00FFFF', 'Lake', 'OS402', 'Band 16'),  # Cyan\n",
    "    403: ('#ADD8E6', 'Pond', 'OS403', 'Band 17'),  # Light blue\n",
    "    404: ('#808080', 'Suburban', 'OS404', 'Band 18'),  # Grey\n",
    "    405: ('#808080', 'Cemeteries', 'OS405', 'Band 19'),  # Grey (same as Suburban)\n",
    "    406: ('#90EE90', 'Playing Fields', 'OS406', 'Band 20'),  # Light green (same as Improved Grassland)\n",
    "    407: ('#000000', 'Railway Verges', 'OS407', 'Band 21'),  # Black\n",
    "    408: ('#000000', 'Railway', 'OS408', 'Band 22'),  # Black\n",
    "    409: ('#000000', 'Road', 'OS409', 'Band 23'),  # Black\n",
    "    410: ('#808080', 'Road Verges', 'OS410', 'Band 24'),  # Grey (same as Suburban)\n",
    "    411: ('#000000', 'Dense Urban', 'OS411', 'Band 25'),  # Black\n",
    "    205: ('#FF00FF', 'Heather Moorland on blanket bog/deep peat', 'D205', 'Band 10'),  # Magenta\n",
    "    206: ('#FF1493', 'Upland Grass Moor on blanket bog/deep peat', 'D206', 'Band 11'), # Deep pink\n",
    "    207: ('#FF69B4', 'Mosaic on blanket bog/deep peat', 'D207', 'Band 12')            # Hot pink\n",
    "}"
   ]
  },
  {
   "cell_type": "code",
   "execution_count": 11,
   "id": "072d202d-3b7c-4305-a230-5be3a6defde7",
   "metadata": {
    "tags": []
   },
   "outputs": [],
   "source": [
    "#majority_class = dask.compute(majority_class)"
   ]
  },
  {
   "cell_type": "markdown",
   "id": "f5b82345-4729-40e5-85c8-2ff487ec53ee",
   "metadata": {},
   "source": [
    "Open the file and change the band integers into the class integers from the original file (this could probably be done at the same time as the coarsen but it is super quick so I didn't worry."
   ]
  },
  {
   "cell_type": "code",
   "execution_count": 7,
   "id": "188bb45a-58b7-4321-8258-b63d9cad53eb",
   "metadata": {
    "tags": []
   },
   "outputs": [],
   "source": [
    "img2m = rio.open_rasterio(\n",
    "    out_path,\n",
    "    #chunks=(26, 1000, 1000)\n",
    ")\n",
    "\n",
    "remap = img2m.copy()\n",
    "\n",
    "for i, name in enumerate(img1.long_name):\n",
    "    remap = xr.where(img2m==i, name, remap)\n",
    "\n",
    "# Have to add the attributes manually\n",
    "remap = remap.rio.write_transform(img2m.rio.transform(True))\n",
    "remap = remap.rio.write_crs(img2m.rio.crs)"
   ]
  },
  {
   "cell_type": "code",
   "execution_count": 8,
   "id": "b1e4c2b7-f284-4cba-9160-70f2129d8f68",
   "metadata": {
    "tags": []
   },
   "outputs": [],
   "source": [
    "remap.astype('int32').rio.to_raster(\n",
    "    os.path.join(ROOT, 'final/mrdge_lcm_2m_maj_attrs.tif'),\n",
    ")"
   ]
  },
  {
   "cell_type": "code",
   "execution_count": 9,
   "id": "5c834646-aa30-4210-9e40-2ae52db79f56",
   "metadata": {
    "tags": []
   },
   "outputs": [
    {
     "name": "stdout",
     "output_type": "stream",
     "text": [
      "-rwxr-xr-x 1 jovyan root 421M Nov 19 17:05 ../landcover/model_outputs/final/mrdge_lcm_2m_maj_attrs.tif\n",
      "-rwxr-xr-x 1 jovyan root 421M Nov 19 17:01 ../landcover/model_outputs/final/mrdge_lcm_2m_maj.tif\n",
      "-rwxr-xr-x 1 jovyan root 116M Nov 19 16:14 ../landcover/model_outputs/final/nlees_lcm_2m_maj_attrs.tif\n",
      "-rwxr-xr-x 1 jovyan root 116M Nov 19 16:03 ../landcover/model_outputs/final/nlees_lcm_2m_maj.tif\n",
      "-rwxr-xr-x 1 jovyan root 462M Nov 19 14:31 ../landcover/model_outputs/final/nlees_lcm_1x1_maj.tif\n",
      "-rwxr-xr-x 1 jovyan root 121M Nov 16 20:57 ../landcover/model_outputs/final/nlees_lcm_10m.tif\n"
     ]
    }
   ],
   "source": [
    "!ls -hault ../landcover/model_outputs/final/*.tif"
   ]
  },
  {
   "cell_type": "code",
   "execution_count": null,
   "id": "f67d920b-4241-40ab-ae87-cd428fa35814",
   "metadata": {},
   "outputs": [],
   "source": []
  }
 ],
 "metadata": {
  "kernelspec": {
   "display_name": "Python 3 (ipykernel)",
   "language": "python",
   "name": "python3"
  },
  "language_info": {
   "codemirror_mode": {
    "name": "ipython",
    "version": 3
   },
   "file_extension": ".py",
   "mimetype": "text/x-python",
   "name": "python",
   "nbconvert_exporter": "python",
   "pygments_lexer": "ipython3",
   "version": "3.11.7"
  }
 },
 "nbformat": 4,
 "nbformat_minor": 5
}
